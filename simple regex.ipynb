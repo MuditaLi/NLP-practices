{
 "cells": [
  {
   "cell_type": "code",
   "execution_count": null,
   "metadata": {},
   "outputs": [],
   "source": [
    "ex = df['NAME'].astype(str)\n",
    "ex.shape\n",
    "\n",
    " \n",
    "# splitting name\n",
    "r_name = ex.apply(lambda x: re.sub(r'\\d*\\.?\\d+[kg|KG|Kg|T|L|mm|#|%|lb]+', '', x))\n",
    "r_name = r_name.apply(lambda x: re.sub(r'\\#\\d+', '', x))\n",
    "r_name = r_name.apply(lambda x: re.sub(r'\\#', '', x))\n",
    "r_name = r_name.apply(lambda x: re.sub(r'\\d+[A|C|P]+', '', x))\n",
    "r_name = r_name.apply(lambda x: re.sub(' +', ' ', x))\n",
    "df['item_name_short'] = r_name\n",
    "\n",
    " \n",
    "\n",
    "r_name0 = r_name.apply(lambda x: re.sub(r'\\d+', '', x))\n",
    "df['item_name_short0'] = r_name0\n",
    "\n",
    " \n",
    "\n",
    "# splitting pack size \n",
    "r_pack = ex.apply(lambda x: re.findall(r'\\d*\\.?\\d+[kg|KG|Kg|T|L|lb]+', x))\n",
    "df['pack_size'] = [item for sublist in r_pack for item in (sublist or [np.nan])]\n",
    "df[df['pack_size'].isna()]\n",
    "\n",
    " \n",
    "\n",
    "# splitting item size\n",
    "r_size = ex.apply(lambda x: re.findall(r'\\d*\\.?\\d+[mm]+', x, re.IGNORECASE))\n",
    "df['item_size'] = [item for sublist in r_size for item in (sublist or [np.nan])]\n",
    "\n",
    " \n",
    "\n",
    "r_size0 = ex.apply(lambda x: re.findall(r'\\#\\d+', x, re.IGNORECASE))\n",
    "df['item_size0'] = [item for sublist in r_size0 for item in (sublist or [np.nan])]\n",
    "df.loc[~df['item_size0'].isna(), 'item_size'] = df.loc[~df['item_size0'].isna(), 'item_size0']\n",
    "\n",
    " \n",
    "\n",
    "df = df.drop(['item_size0'], axis=1)"
   ]
  }
 ],
 "metadata": {
  "kernelspec": {
   "display_name": "Python 3",
   "language": "python",
   "name": "python3"
  },
  "language_info": {
   "codemirror_mode": {
    "name": "ipython",
    "version": 3
   },
   "file_extension": ".py",
   "mimetype": "text/x-python",
   "name": "python",
   "nbconvert_exporter": "python",
   "pygments_lexer": "ipython3",
   "version": "3.8.5"
  }
 },
 "nbformat": 4,
 "nbformat_minor": 4
}
